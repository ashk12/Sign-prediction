{
 "cells": [
  {
   "cell_type": "code",
   "execution_count": 23,
   "metadata": {},
   "outputs": [],
   "source": [
    "import numpy as np\n",
    "import tensorflow as tf\n",
    "import h5py\n",
    "from keras.preprocessing import image\n",
    "import matplotlib.pyplot as plt\n",
    "from matplotlib.pyplot import imshow\n",
    "from keras.applications.imagenet_utils import preprocess_input"
   ]
  },
  {
   "cell_type": "markdown",
   "metadata": {},
   "source": [
    "# Loading Dataset"
   ]
  },
  {
   "cell_type": "code",
   "execution_count": 24,
   "metadata": {},
   "outputs": [],
   "source": [
    "def load_dataset():\n",
    "    train_dataset = h5py.File('train_signs.h5', \"r\")\n",
    "    train_set_x_orig = np.array(train_dataset[\"train_set_x\"][:]) \n",
    "    train_set_y_orig = np.array(train_dataset[\"train_set_y\"][:]) \n",
    "\n",
    "    test_dataset = h5py.File('test_signs.h5', \"r\")\n",
    "    test_set_x_orig = np.array(test_dataset[\"test_set_x\"][:]) \n",
    "    test_set_y_orig = np.array(test_dataset[\"test_set_y\"][:]) \n",
    "    \n",
    "    #list of classes\n",
    "    \n",
    "    classes = np.array(test_dataset[\"list_classes\"][:]) \n",
    "    \n",
    "    train_set_y_orig = train_set_y_orig.reshape((1, train_set_y_orig.shape[0]))\n",
    "    test_set_y_orig = test_set_y_orig.reshape((1, test_set_y_orig.shape[0]))\n",
    "    \n",
    "    return train_set_x_orig, train_set_y_orig, test_set_x_orig, test_set_y_orig, classes"
   ]
  },
  {
   "cell_type": "code",
   "execution_count": 25,
   "metadata": {},
   "outputs": [],
   "source": [
    "X_train,y_train,X_test,y_test,classes = load_dataset()"
   ]
  },
  {
   "cell_type": "code",
   "execution_count": 30,
   "metadata": {},
   "outputs": [
    {
     "name": "stdout",
     "output_type": "stream",
     "text": [
      "This picture is of class : [5]\n"
     ]
    },
    {
     "data": {
      "image/png": "[encoded data removed]",
      "text/plain": [
       "<Figure size 432x288 with 1 Axes>"
      ]
     },
     "metadata": {
      "needs_background": "light"
     },
     "output_type": "display_data"
    }
   ],
   "source": [
    "#example\n",
    "plt.imshow(X_train[3].reshape(64,64,3))\n",
    "print(\"This picture is of class :\",y_train.T[3])"
   ]
  },
  {
   "cell_type": "code",
   "execution_count": 9,
   "metadata": {},
   "outputs": [],
   "source": [
    "def convert_to_one_hot(Y, C):\n",
    "    'This function convert the prediction layer into list of classes'\n",
    "    Y = np.eye(C)[Y.reshape(-1)].T\n",
    "    return Y"
   ]
  },
  {
   "cell_type": "code",
   "execution_count": 10,
   "metadata": {},
   "outputs": [
    {
     "name": "stdout",
     "output_type": "stream",
     "text": [
      "number of training examples = 1080\n",
      "number of test examples = 120\n",
      "X_train shape: (1080, 12288)\n",
      "Y_train shape: (1080, 6)\n",
      "X_test shape: (120, 12288)\n",
      "Y_test shape: (120, 6)\n"
     ]
    }
   ],
   "source": [
    "X_train = X_train/255.\n",
    "X_test = X_test/255.\n",
    "y_train = convert_to_one_hot(y_train,6).T\n",
    "y_test = convert_to_one_hot(y_test,6).T\n",
    "X_train = X_train.reshape(X_train.shape[0], -1)\n",
    "X_test = X_test.reshape(X_test.shape[0], -1)\n",
    "print (\"number of training examples = \" + str(X_train.shape[0]))\n",
    "print (\"number of test examples = \" + str(X_test.shape[0]))\n",
    "print (\"X_train shape: \" + str(X_train.shape))\n",
    "print (\"Y_train shape: \" + str(y_train.shape))\n",
    "print (\"X_test shape: \" + str(X_test.shape))\n",
    "print (\"Y_test shape: \" + str(y_test.shape))"
   ]
  },
  {
   "cell_type": "markdown",
   "metadata": {},
   "source": [
    "# Model "
   ]
  },
  {
   "cell_type": "code",
   "execution_count": 11,
   "metadata": {},
   "outputs": [],
   "source": [
    "model = tf.keras.Sequential()\n",
    "model.add(tf.keras.layers.Dense(256,activation='relu'))\n",
    "model.add(tf.keras.layers.Dense(256,activation='relu'))\n",
    "model.add(tf.keras.layers.Dense(128,activation='relu'))\n",
    "model.add(tf.keras.layers.Dense(128,activation='relu'))\n",
    "model.add(tf.keras.layers.Dense(6,activation='softmax'))"
   ]
  },
  {
   "cell_type": "code",
   "execution_count": 12,
   "metadata": {},
   "outputs": [],
   "source": [
    "model.compile(optimizer = tf.keras.optimizers.Adam(),loss=tf.keras.losses.CategoricalCrossentropy(),metrics=['accuracy'])"
   ]
  },
  {
   "cell_type": "code",
   "execution_count": 13,
   "metadata": {},
   "outputs": [
    {
     "name": "stdout",
     "output_type": "stream",
     "text": [
      "Epoch 1/100\n",
      "34/34 [==============================] - 1s 16ms/step - loss: 2.4521 - accuracy: 0.1806\n",
      "Epoch 2/100\n",
      "34/34 [==============================] - 1s 16ms/step - loss: 1.8860 - accuracy: 0.2287\n",
      "Epoch 3/100\n",
      "34/34 [==============================] - 1s 16ms/step - loss: 1.6913 - accuracy: 0.3028\n",
      "Epoch 4/100\n",
      "34/34 [==============================] - 1s 18ms/step - loss: 1.5445 - accuracy: 0.3352\n",
      "Epoch 5/100\n",
      "34/34 [==============================] - 1s 17ms/step - loss: 1.4722 - accuracy: 0.4009\n",
      "Epoch 6/100\n",
      "34/34 [==============================] - 1s 16ms/step - loss: 1.4186 - accuracy: 0.4370\n",
      "Epoch 7/100\n",
      "34/34 [==============================] - 1s 17ms/step - loss: 1.2795 - accuracy: 0.4926\n",
      "Epoch 8/100\n",
      "34/34 [==============================] - 1s 17ms/step - loss: 1.2346 - accuracy: 0.5130\n",
      "Epoch 9/100\n",
      "34/34 [==============================] - 1s 16ms/step - loss: 1.1145 - accuracy: 0.5639\n",
      "Epoch 10/100\n",
      "34/34 [==============================] - 1s 16ms/step - loss: 1.1373 - accuracy: 0.5491\n",
      "Epoch 11/100\n",
      "34/34 [==============================] - 1s 16ms/step - loss: 1.0378 - accuracy: 0.5935\n",
      "Epoch 12/100\n",
      "34/34 [==============================] - 1s 17ms/step - loss: 0.8632 - accuracy: 0.6944\n",
      "Epoch 13/100\n",
      "34/34 [==============================] - 1s 16ms/step - loss: 0.9166 - accuracy: 0.6389\n",
      "Epoch 14/100\n",
      "34/34 [==============================] - 1s 16ms/step - loss: 0.8931 - accuracy: 0.6528\n",
      "Epoch 15/100\n",
      "34/34 [==============================] - 1s 16ms/step - loss: 0.8656 - accuracy: 0.6648 0s - loss: 0.7570 - \n",
      "Epoch 16/100\n",
      "34/34 [==============================] - 1s 17ms/step - loss: 0.8268 - accuracy: 0.6806\n",
      "Epoch 17/100\n",
      "34/34 [==============================] - 1s 16ms/step - loss: 0.8604 - accuracy: 0.6667\n",
      "Epoch 18/100\n",
      "34/34 [==============================] - 1s 17ms/step - loss: 0.7833 - accuracy: 0.6981\n",
      "Epoch 19/100\n",
      "34/34 [==============================] - 1s 16ms/step - loss: 0.6794 - accuracy: 0.7426\n",
      "Epoch 20/100\n",
      "34/34 [==============================] - 1s 16ms/step - loss: 0.9217 - accuracy: 0.6444\n",
      "Epoch 21/100\n",
      "34/34 [==============================] - 1s 16ms/step - loss: 0.7076 - accuracy: 0.7324\n",
      "Epoch 22/100\n",
      "34/34 [==============================] - 1s 16ms/step - loss: 0.6600 - accuracy: 0.7620\n",
      "Epoch 23/100\n",
      "34/34 [==============================] - 1s 16ms/step - loss: 0.6106 - accuracy: 0.7815\n",
      "Epoch 24/100\n",
      "34/34 [==============================] - 1s 18ms/step - loss: 0.6075 - accuracy: 0.7676\n",
      "Epoch 25/100\n",
      "34/34 [==============================] - 1s 17ms/step - loss: 0.6128 - accuracy: 0.7676\n",
      "Epoch 26/100\n",
      "34/34 [==============================] - 1s 18ms/step - loss: 0.6304 - accuracy: 0.7750\n",
      "Epoch 27/100\n",
      "34/34 [==============================] - 1s 17ms/step - loss: 0.9989 - accuracy: 0.6204\n",
      "Epoch 28/100\n",
      "34/34 [==============================] - 1s 17ms/step - loss: 0.7876 - accuracy: 0.7028\n",
      "Epoch 29/100\n",
      "34/34 [==============================] - 1s 16ms/step - loss: 0.6600 - accuracy: 0.7648\n",
      "Epoch 30/100\n",
      "34/34 [==============================] - 1s 18ms/step - loss: 0.5234 - accuracy: 0.8167\n",
      "Epoch 31/100\n",
      "34/34 [==============================] - 1s 19ms/step - loss: 0.5445 - accuracy: 0.8046\n",
      "Epoch 32/100\n",
      "34/34 [==============================] - 1s 18ms/step - loss: 0.4655 - accuracy: 0.8204\n",
      "Epoch 33/100\n",
      "34/34 [==============================] - 1s 16ms/step - loss: 0.5208 - accuracy: 0.8074\n",
      "Epoch 34/100\n",
      "34/34 [==============================] - 1s 15ms/step - loss: 0.7779 - accuracy: 0.7204\n",
      "Epoch 35/100\n",
      "34/34 [==============================] - 1s 15ms/step - loss: 0.5885 - accuracy: 0.7815\n",
      "Epoch 36/100\n",
      "34/34 [==============================] - ETA: 0s - loss: 0.4837 - accuracy: 0.82 - 1s 16ms/step - loss: 0.4671 - accuracy: 0.8306\n",
      "Epoch 37/100\n",
      "34/34 [==============================] - 1s 16ms/step - loss: 0.4009 - accuracy: 0.8593\n",
      "Epoch 38/100\n",
      "34/34 [==============================] - 1s 17ms/step - loss: 0.4430 - accuracy: 0.8426\n",
      "Epoch 39/100\n",
      "34/34 [==============================] - 1s 18ms/step - loss: 0.4691 - accuracy: 0.8167\n",
      "Epoch 40/100\n",
      "34/34 [==============================] - 1s 16ms/step - loss: 0.4493 - accuracy: 0.8278\n",
      "Epoch 41/100\n",
      "34/34 [==============================] - 1s 16ms/step - loss: 0.6920 - accuracy: 0.7324\n",
      "Epoch 42/100\n",
      "34/34 [==============================] - 1s 16ms/step - loss: 0.4386 - accuracy: 0.8380\n",
      "Epoch 43/100\n",
      "34/34 [==============================] - 1s 16ms/step - loss: 0.3034 - accuracy: 0.8972\n",
      "Epoch 44/100\n",
      "34/34 [==============================] - 1s 16ms/step - loss: 0.3610 - accuracy: 0.8657\n",
      "Epoch 45/100\n",
      "34/34 [==============================] - 1s 16ms/step - loss: 0.3576 - accuracy: 0.8741\n",
      "Epoch 46/100\n",
      "34/34 [==============================] - 1s 16ms/step - loss: 0.3209 - accuracy: 0.8796\n",
      "Epoch 47/100\n",
      "34/34 [==============================] - 1s 17ms/step - loss: 0.3519 - accuracy: 0.8778\n",
      "Epoch 48/100\n",
      "34/34 [==============================] - 1s 18ms/step - loss: 0.3184 - accuracy: 0.8778\n",
      "Epoch 49/100\n",
      "34/34 [==============================] - 1s 16ms/step - loss: 0.3042 - accuracy: 0.8917\n",
      "Epoch 50/100\n",
      "34/34 [==============================] - 1s 16ms/step - loss: 0.2545 - accuracy: 0.9102\n",
      "Epoch 51/100\n",
      "34/34 [==============================] - 1s 16ms/step - loss: 0.2636 - accuracy: 0.8991\n",
      "Epoch 52/100\n",
      "34/34 [==============================] - 1s 16ms/step - loss: 0.4667 - accuracy: 0.8306\n",
      "Epoch 53/100\n",
      "34/34 [==============================] - 1s 16ms/step - loss: 0.4186 - accuracy: 0.8528\n",
      "Epoch 54/100\n",
      "34/34 [==============================] - 1s 17ms/step - loss: 0.2424 - accuracy: 0.9120\n",
      "Epoch 55/100\n",
      "34/34 [==============================] - 1s 18ms/step - loss: 0.2878 - accuracy: 0.8917\n",
      "Epoch 56/100\n",
      "34/34 [==============================] - 1s 19ms/step - loss: 0.1990 - accuracy: 0.9306\n",
      "Epoch 57/100\n",
      "34/34 [==============================] - 1s 16ms/step - loss: 0.3130 - accuracy: 0.8889\n",
      "Epoch 58/100\n",
      "34/34 [==============================] - 1s 16ms/step - loss: 0.3489 - accuracy: 0.8676\n",
      "Epoch 59/100\n",
      "34/34 [==============================] - 1s 17ms/step - loss: 0.3744 - accuracy: 0.8741\n",
      "Epoch 60/100\n",
      "34/34 [==============================] - 1s 18ms/step - loss: 0.1934 - accuracy: 0.9333\n",
      "Epoch 61/100\n",
      "34/34 [==============================] - 1s 17ms/step - loss: 0.1675 - accuracy: 0.9454\n",
      "Epoch 62/100\n",
      "34/34 [==============================] - 1s 17ms/step - loss: 0.2760 - accuracy: 0.8954\n",
      "Epoch 63/100\n",
      "34/34 [==============================] - 1s 17ms/step - loss: 0.3222 - accuracy: 0.8824\n",
      "Epoch 64/100\n",
      "34/34 [==============================] - 1s 17ms/step - loss: 0.2028 - accuracy: 0.9296\n",
      "Epoch 65/100\n",
      "34/34 [==============================] - 1s 16ms/step - loss: 0.2668 - accuracy: 0.8898\n",
      "Epoch 66/100\n",
      "34/34 [==============================] - 1s 17ms/step - loss: 0.2748 - accuracy: 0.8954\n",
      "Epoch 67/100\n",
      "34/34 [==============================] - 1s 16ms/step - loss: 0.2464 - accuracy: 0.8972\n",
      "Epoch 68/100\n",
      "34/34 [==============================] - 1s 16ms/step - loss: 0.1911 - accuracy: 0.9324\n",
      "Epoch 69/100\n",
      "34/34 [==============================] - 1s 16ms/step - loss: 0.1511 - accuracy: 0.9509\n",
      "Epoch 70/100\n",
      "34/34 [==============================] - 1s 16ms/step - loss: 0.2213 - accuracy: 0.9157\n",
      "Epoch 71/100\n",
      "34/34 [==============================] - 1s 16ms/step - loss: 0.5004 - accuracy: 0.8491\n",
      "Epoch 72/100\n",
      "34/34 [==============================] - 1s 16ms/step - loss: 0.3172 - accuracy: 0.8852\n",
      "Epoch 73/100\n",
      "34/34 [==============================] - 1s 16ms/step - loss: 0.2042 - accuracy: 0.9250\n",
      "Epoch 74/100\n",
      "34/34 [==============================] - 1s 16ms/step - loss: 0.1487 - accuracy: 0.9435\n",
      "Epoch 75/100\n",
      "34/34 [==============================] - 1s 16ms/step - loss: 0.4404 - accuracy: 0.8315\n",
      "Epoch 76/100\n",
      "34/34 [==============================] - 1s 16ms/step - loss: 0.2503 - accuracy: 0.9065\n",
      "Epoch 77/100\n",
      "34/34 [==============================] - 1s 16ms/step - loss: 0.2824 - accuracy: 0.8898\n",
      "Epoch 78/100\n",
      "34/34 [==============================] - 1s 17ms/step - loss: 0.1655 - accuracy: 0.9417\n",
      "Epoch 79/100\n",
      "34/34 [==============================] - 1s 16ms/step - loss: 0.1853 - accuracy: 0.9269\n",
      "Epoch 80/100\n",
      "34/34 [==============================] - 1s 16ms/step - loss: 0.1217 - accuracy: 0.9556\n",
      "Epoch 81/100\n",
      "34/34 [==============================] - 1s 16ms/step - loss: 0.1584 - accuracy: 0.9380\n",
      "Epoch 82/100\n",
      "34/34 [==============================] - 1s 16ms/step - loss: 0.1372 - accuracy: 0.9500\n",
      "Epoch 83/100\n",
      "34/34 [==============================] - 1s 16ms/step - loss: 0.1736 - accuracy: 0.9352\n",
      "Epoch 84/100\n",
      "34/34 [==============================] - 1s 16ms/step - loss: 0.2498 - accuracy: 0.9130\n",
      "Epoch 85/100\n",
      "34/34 [==============================] - 1s 16ms/step - loss: 0.1167 - accuracy: 0.9546\n",
      "Epoch 86/100\n",
      "34/34 [==============================] - 1s 16ms/step - loss: 0.1739 - accuracy: 0.9306\n",
      "Epoch 87/100\n",
      "34/34 [==============================] - 1s 16ms/step - loss: 0.1384 - accuracy: 0.9509\n",
      "Epoch 88/100\n",
      "34/34 [==============================] - 1s 16ms/step - loss: 0.1301 - accuracy: 0.9472\n",
      "Epoch 89/100\n",
      "34/34 [==============================] - 1s 16ms/step - loss: 0.2877 - accuracy: 0.8935\n",
      "Epoch 90/100\n",
      "34/34 [==============================] - 1s 16ms/step - loss: 0.2967 - accuracy: 0.9019\n",
      "Epoch 91/100\n",
      "34/34 [==============================] - 1s 16ms/step - loss: 0.2680 - accuracy: 0.8898\n",
      "Epoch 92/100\n",
      "34/34 [==============================] - 1s 16ms/step - loss: 0.2072 - accuracy: 0.9222\n",
      "Epoch 93/100\n",
      "34/34 [==============================] - 1s 16ms/step - loss: 0.0720 - accuracy: 0.9769\n",
      "Epoch 94/100\n",
      "34/34 [==============================] - 1s 16ms/step - loss: 0.0426 - accuracy: 0.9843\n",
      "Epoch 95/100\n",
      "34/34 [==============================] - 1s 18ms/step - loss: 0.0461 - accuracy: 0.9880\n",
      "Epoch 96/100\n",
      "34/34 [==============================] - 1s 17ms/step - loss: 0.1031 - accuracy: 0.9593\n",
      "Epoch 97/100\n",
      "34/34 [==============================] - 1s 17ms/step - loss: 0.1883 - accuracy: 0.9287\n",
      "Epoch 98/100\n",
      "34/34 [==============================] - 1s 17ms/step - loss: 0.1328 - accuracy: 0.9528\n",
      "Epoch 99/100\n",
      "34/34 [==============================] - 1s 16ms/step - loss: 0.0607 - accuracy: 0.9750\n",
      "Epoch 100/100\n",
      "34/34 [==============================] - 1s 16ms/step - loss: 0.0905 - accuracy: 0.9685\n"
     ]
    },
    {
     "data": {
      "text/plain": [
       "<tensorflow.python.keras.callbacks.History at 0x21c126ceec8>"
      ]
     },
     "execution_count": 13,
     "metadata": {},
     "output_type": "execute_result"
    }
   ],
   "source": [
    "model.fit(epochs = 100 , x=X_train , y=y_train)"
   ]
  },
  {
   "cell_type": "code",
   "execution_count": 15,
   "metadata": {},
   "outputs": [
    {
     "name": "stdout",
     "output_type": "stream",
     "text": [
      "4/4 [==============================] - 0s 3ms/step - loss: 0.3514 - accuracy: 0.8833\n",
      "Loss: 0.35139694809913635\n",
      "Accuracy of test set: 0.8833333253860474\n"
     ]
    }
   ],
   "source": [
    "preds = model.evaluate(X_test,y_test)\n",
    "print(\"Loss:\",preds[0])\n",
    "print(\"Accuracy of test set:\",preds[1])"
   ]
  },
  {
   "cell_type": "code",
   "execution_count": 16,
   "metadata": {},
   "outputs": [
    {
     "name": "stdout",
     "output_type": "stream",
     "text": [
      "[[0. 1. 0. 0. 0. 0.]]\n"
     ]
    },
    {
     "data": {
      "image/png": "[encoded data removed]",
      "text/plain": [
       "<Figure size 432x288 with 1 Axes>"
      ]
     },
     "metadata": {
      "needs_background": "light"
     },
     "output_type": "display_data"
    }
   ],
   "source": [
    "img_path = 'my_image_finger1.jpg'\n",
    "\n",
    "img = image.load_img(img_path, target_size=(64, 64))\n",
    "imshow(img)\n",
    "x = image.img_to_array(img)\n",
    "x=x.reshape(1,64*64*3)\n",
    "print(model.predict(x))"
   ]
  },
  {
   "cell_type": "code",
   "execution_count": 17,
   "metadata": {},
   "outputs": [
    {
     "name": "stdout",
     "output_type": "stream",
     "text": [
      "Model: \"sequential_1\"\n",
      "_________________________________________________________________\n",
      "Layer (type)                 Output Shape              Param #   \n",
      "=================================================================\n",
      "dense_5 (Dense)              (None, 256)               3145984   \n",
      "_________________________________________________________________\n",
      "dense_6 (Dense)              (None, 256)               65792     \n",
      "_________________________________________________________________\n",
      "dense_7 (Dense)              (None, 128)               32896     \n",
      "_________________________________________________________________\n",
      "dense_8 (Dense)              (None, 128)               16512     \n",
      "_________________________________________________________________\n",
      "dense_9 (Dense)              (None, 6)                 774       \n",
      "=================================================================\n",
      "Total params: 3,261,958\n",
      "Trainable params: 3,261,958\n",
      "Non-trainable params: 0\n",
      "_________________________________________________________________\n"
     ]
    }
   ],
   "source": [
    "model.summary()"
   ]
  },
  {
   "cell_type": "code",
   "execution_count": null,
   "metadata": {},
   "outputs": [],
   "source": []
  }
 ],
 "metadata": {
  "kernelspec": {
   "display_name": "Python 3",
   "language": "python",
   "name": "python3"
  },
  "language_info": {
   "codemirror_mode": {
    "name": "ipython",
    "version": 3
   },
   "file_extension": ".py",
   "mimetype": "text/x-python",
   "name": "python",
   "nbconvert_exporter": "python",
   "pygments_lexer": "ipython3",
   "version": "3.7.7"
  }
 },
 "nbformat": 4,
 "nbformat_minor": 4
}
